{
 "cells": [
  {
   "cell_type": "code",
   "execution_count": 9,
   "id": "042656e8",
   "metadata": {},
   "outputs": [
    {
     "data": {
      "text/plain": [
       "853"
      ]
     },
     "execution_count": 9,
     "metadata": {},
     "output_type": "execute_result"
    }
   ],
   "source": [
    "from bs4 import BeautifulSoup\n",
    "import requests\n",
    "import re\n",
    "from bs4 import BeautifulSoup\n",
    "import pandas as pd\n",
    "from datetime import datetime, timedelta\n",
    "from tqdm import tqdm\n",
    "\n",
    "#Change this if format requires\n",
    "file_to_read = pd.read_csv('movies2017.csv')\n",
    "file_to_read = file_to_read[file_to_read['revenue']!=0]\n",
    "movies = file_to_read['title'].values.tolist()\n",
    "len(movies)"
   ]
  },
  {
   "cell_type": "code",
   "execution_count": 6,
   "id": "a30e5541",
   "metadata": {},
   "outputs": [
    {
     "name": "stdout",
     "output_type": "stream",
     "text": [
      "853\n"
     ]
    }
   ],
   "source": [
    "base_url = \"https://www.rottentomatoes.com/search?search=\"\n",
    "\n",
    "#Function to create search URLs\n",
    "def create_search_url(movie_name):\n",
    "    return base_url + '+'.join(movie_name.split())\n",
    "\n",
    "# Creating search URLs for each movie\n",
    "search_urls = {movie: create_search_url(movie) for movie in movies}\n",
    "print(len(movies))"
   ]
  },
  {
   "cell_type": "code",
   "execution_count": 8,
   "id": "c31b68f2",
   "metadata": {},
   "outputs": [
    {
     "data": {
      "text/html": [
       "<div>\n",
       "<style scoped>\n",
       "    .dataframe tbody tr th:only-of-type {\n",
       "        vertical-align: middle;\n",
       "    }\n",
       "\n",
       "    .dataframe tbody tr th {\n",
       "        vertical-align: top;\n",
       "    }\n",
       "\n",
       "    .dataframe thead th {\n",
       "        text-align: right;\n",
       "    }\n",
       "</style>\n",
       "<table border=\"1\" class=\"dataframe\">\n",
       "  <thead>\n",
       "    <tr style=\"text-align: right;\">\n",
       "      <th></th>\n",
       "      <th>Movie</th>\n",
       "      <th>Specific Rotten Tomato Score</th>\n",
       "    </tr>\n",
       "  </thead>\n",
       "  <tbody>\n",
       "    <tr>\n",
       "      <th>0</th>\n",
       "      <td>Logan</td>\n",
       "      <td>None</td>\n",
       "    </tr>\n",
       "    <tr>\n",
       "      <th>1</th>\n",
       "      <td>Split</td>\n",
       "      <td>None</td>\n",
       "    </tr>\n",
       "    <tr>\n",
       "      <th>2</th>\n",
       "      <td>John Wick: Chapter 2</td>\n",
       "      <td>None</td>\n",
       "    </tr>\n",
       "    <tr>\n",
       "      <th>3</th>\n",
       "      <td>Fifty Shades Darker</td>\n",
       "      <td>None</td>\n",
       "    </tr>\n",
       "    <tr>\n",
       "      <th>4</th>\n",
       "      <td>xXx: Return of Xander Cage</td>\n",
       "      <td>None</td>\n",
       "    </tr>\n",
       "    <tr>\n",
       "      <th>5</th>\n",
       "      <td>Below Her Mouth</td>\n",
       "      <td>None</td>\n",
       "    </tr>\n",
       "    <tr>\n",
       "      <th>6</th>\n",
       "      <td>A Dog's Purpose</td>\n",
       "      <td>None</td>\n",
       "    </tr>\n",
       "    <tr>\n",
       "      <th>7</th>\n",
       "      <td>The Invisible Guest</td>\n",
       "      <td>None</td>\n",
       "    </tr>\n",
       "    <tr>\n",
       "      <th>8</th>\n",
       "      <td>Get Out</td>\n",
       "      <td>None</td>\n",
       "    </tr>\n",
       "    <tr>\n",
       "      <th>9</th>\n",
       "      <td>The Lego Batman Movie</td>\n",
       "      <td>None</td>\n",
       "    </tr>\n",
       "  </tbody>\n",
       "</table>\n",
       "</div>"
      ],
      "text/plain": [
       "                        Movie Specific Rotten Tomato Score\n",
       "0                       Logan                         None\n",
       "1                       Split                         None\n",
       "2        John Wick: Chapter 2                         None\n",
       "3         Fifty Shades Darker                         None\n",
       "4  xXx: Return of Xander Cage                         None\n",
       "5             Below Her Mouth                         None\n",
       "6             A Dog's Purpose                         None\n",
       "7         The Invisible Guest                         None\n",
       "8                     Get Out                         None\n",
       "9       The Lego Batman Movie                         None"
      ]
     },
     "execution_count": 8,
     "metadata": {},
     "output_type": "execute_result"
    }
   ],
   "source": [
    "#Get score from website\n",
    "def get_specific_rotten_tomato_score(url):\n",
    "    response = requests.get(url)\n",
    "    if response.status_code == 200:\n",
    "        soup = BeautifulSoup(response.text, 'html.parser')\n",
    "        media_rows = soup.find_all('search-page-media-row', {'data-qa': 'data-row'})\n",
    "\n",
    "        for row in media_rows:\n",
    "            if 'tomatometerscore' in row.attrs:\n",
    "                score = row.attrs['tomatometerscore']\n",
    "                if score:\n",
    "                    return int(score)\n",
    "    return None    \n",
    "\n",
    "\n",
    "#Iterate through list\n",
    "movie_scores_specific = {}\n",
    "for movie, url in search_urls.items():\n",
    "    score = get_specific_rotten_tomato_score(url)\n",
    "    movie_scores_specific[movie] = score\n",
    "\n",
    "#Make df using scores\n",
    "movies_score_df_specific = pd.DataFrame(list(movie_scores_specific.items()), columns=['Movie', 'Specific Rotten Tomato Score'])\n",
    "movies_score_df_specific.head(10) "
   ]
  },
  {
   "cell_type": "code",
   "execution_count": 10,
   "id": "42bf7fbd",
   "metadata": {},
   "outputs": [
    {
     "data": {
      "text/html": [
       "<div>\n",
       "<style scoped>\n",
       "    .dataframe tbody tr th:only-of-type {\n",
       "        vertical-align: middle;\n",
       "    }\n",
       "\n",
       "    .dataframe tbody tr th {\n",
       "        vertical-align: top;\n",
       "    }\n",
       "\n",
       "    .dataframe thead th {\n",
       "        text-align: right;\n",
       "    }\n",
       "</style>\n",
       "<table border=\"1\" class=\"dataframe\">\n",
       "  <thead>\n",
       "    <tr style=\"text-align: right;\">\n",
       "      <th></th>\n",
       "      <th>Movie</th>\n",
       "      <th>Specific Rotten Tomato Score</th>\n",
       "    </tr>\n",
       "  </thead>\n",
       "  <tbody>\n",
       "    <tr>\n",
       "      <th>0</th>\n",
       "      <td>Logan</td>\n",
       "      <td>None</td>\n",
       "    </tr>\n",
       "    <tr>\n",
       "      <th>1</th>\n",
       "      <td>Split</td>\n",
       "      <td>None</td>\n",
       "    </tr>\n",
       "    <tr>\n",
       "      <th>2</th>\n",
       "      <td>John Wick: Chapter 2</td>\n",
       "      <td>None</td>\n",
       "    </tr>\n",
       "    <tr>\n",
       "      <th>3</th>\n",
       "      <td>Fifty Shades Darker</td>\n",
       "      <td>None</td>\n",
       "    </tr>\n",
       "    <tr>\n",
       "      <th>4</th>\n",
       "      <td>xXx: Return of Xander Cage</td>\n",
       "      <td>None</td>\n",
       "    </tr>\n",
       "    <tr>\n",
       "      <th>...</th>\n",
       "      <td>...</td>\n",
       "      <td>...</td>\n",
       "    </tr>\n",
       "    <tr>\n",
       "      <th>845</th>\n",
       "      <td>Nan ji zhi lian</td>\n",
       "      <td>None</td>\n",
       "    </tr>\n",
       "    <tr>\n",
       "      <th>846</th>\n",
       "      <td>Khaltoor</td>\n",
       "      <td>None</td>\n",
       "    </tr>\n",
       "    <tr>\n",
       "      <th>847</th>\n",
       "      <td>Journey to Tataouine</td>\n",
       "      <td>None</td>\n",
       "    </tr>\n",
       "    <tr>\n",
       "      <th>848</th>\n",
       "      <td>Gonjeshkake ashi mashi</td>\n",
       "      <td>None</td>\n",
       "    </tr>\n",
       "    <tr>\n",
       "      <th>849</th>\n",
       "      <td>Stranger</td>\n",
       "      <td>None</td>\n",
       "    </tr>\n",
       "  </tbody>\n",
       "</table>\n",
       "<p>850 rows × 2 columns</p>\n",
       "</div>"
      ],
      "text/plain": [
       "                          Movie Specific Rotten Tomato Score\n",
       "0                         Logan                         None\n",
       "1                         Split                         None\n",
       "2          John Wick: Chapter 2                         None\n",
       "3           Fifty Shades Darker                         None\n",
       "4    xXx: Return of Xander Cage                         None\n",
       "..                          ...                          ...\n",
       "845             Nan ji zhi lian                         None\n",
       "846                    Khaltoor                         None\n",
       "847        Journey to Tataouine                         None\n",
       "848      Gonjeshkake ashi mashi                         None\n",
       "849                    Stranger                         None\n",
       "\n",
       "[850 rows x 2 columns]"
      ]
     },
     "execution_count": 10,
     "metadata": {},
     "output_type": "execute_result"
    }
   ],
   "source": [
    "movies_score_df_specific"
   ]
  },
  {
   "cell_type": "code",
   "execution_count": 11,
   "id": "b9eec813",
   "metadata": {},
   "outputs": [],
   "source": [
    "movies_score_df_specific = movies_score_df_specific.dropna(subset=[movies_score_df_specific.columns[1]])\n",
    "\n",
    "#Output file for current file_to_read\n",
    "movies_score_df_specific.to_csv('2017scores.csv', index=False)"
   ]
  },
  {
   "cell_type": "code",
   "execution_count": 12,
   "id": "609ffb0b",
   "metadata": {},
   "outputs": [],
   "source": [
    "def combine_dataframes_from_files(file_list):\n",
    "    dfs = []\n",
    "\n",
    "    for file_path in file_list:\n",
    "        df = pd.read_csv(file_path)\n",
    "        dfs.append(df)\n",
    "\n",
    "    combined_df = pd.concat(dfs, ignore_index=True)\n",
    "\n",
    "    return combined_df\n",
    "\n",
    "#List of output files to combine, CHANGE IF NEW FILES USED\n",
    "file_list = ['2013scores.csv', '2014scores.csv', '2015scores.csv', '2015scores.csv'\n",
    "             , '2016scores.csv', '2017scores.csv', '2018scores.csv', '2019scores.csv', '2020scores.csv'\n",
    "             , '2021scores.csv', '2022scores.csv', '2023scores.csv', 'romescores.csv']\n",
    "\n",
    "combined_dataframe = combine_dataframes_from_files(file_list)\n",
    "combined_dataframe = combined_dataframe.drop_duplicates(subset=['Movie'])\n",
    "\n",
    "combined_dataframe.to_csv('all_scores.csv', index=False)"
   ]
  },
  {
   "cell_type": "code",
   "execution_count": 78,
   "id": "259214fb",
   "metadata": {},
   "outputs": [
    {
     "data": {
      "text/plain": [
       "0"
      ]
     },
     "execution_count": 78,
     "metadata": {},
     "output_type": "execute_result"
    }
   ],
   "source": [
    "#Drop all duplicates\n",
    "duplicates = combined_dataframe['Movie'].duplicated()\n",
    "\n",
    "num_duplicates = duplicates.sum()\n",
    "num_duplicates"
   ]
  },
  {
   "cell_type": "code",
   "execution_count": null,
   "id": "ebf99985",
   "metadata": {},
   "outputs": [],
   "source": []
  }
 ],
 "metadata": {
  "kernelspec": {
   "display_name": "Python 3 (ipykernel)",
   "language": "python",
   "name": "python3"
  },
  "language_info": {
   "codemirror_mode": {
    "name": "ipython",
    "version": 3
   },
   "file_extension": ".py",
   "mimetype": "text/x-python",
   "name": "python",
   "nbconvert_exporter": "python",
   "pygments_lexer": "ipython3",
   "version": "3.9.18"
  }
 },
 "nbformat": 4,
 "nbformat_minor": 5
}
